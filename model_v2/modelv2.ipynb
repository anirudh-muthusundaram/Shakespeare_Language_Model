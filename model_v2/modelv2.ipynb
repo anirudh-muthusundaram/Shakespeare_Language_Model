{
 "cells": [
  {
   "cell_type": "code",
   "execution_count": 1,
   "metadata": {},
   "outputs": [
    {
     "name": "stdout",
     "output_type": "stream",
     "text": [
      "Using device: cuda\n"
     ]
    }
   ],
   "source": [
    "import os\n",
    "import numpy as np\n",
    "import torch\n",
    "import torch.nn as nn\n",
    "import torch.optim as optim\n",
    "from torch.utils.data import Dataset, DataLoader\n",
    "\n",
    "# Ensure you run this code in an environment where PyTorch GPU support is available.\n",
    "device = torch.device(\"cuda\" if torch.cuda.is_available() else \"cpu\")\n",
    "print(\"Using device:\", device)\n",
    "\n",
    "OUTPUT_DIR = \"shakespeare_works\"\n",
    "combined_text_file = \"combined_shakespeare.txt\"\n"
   ]
  },
  {
   "cell_type": "code",
   "execution_count": 2,
   "metadata": {},
   "outputs": [
    {
     "name": "stdout",
     "output_type": "stream",
     "text": [
      "Combined texts saved to combined_shakespeare.txt\n"
     ]
    }
   ],
   "source": [
    "combined_text = \"\"\n",
    "for filename in os.listdir(OUTPUT_DIR):\n",
    "    with open(os.path.join(OUTPUT_DIR, filename), \"r\", encoding=\"utf-8\") as file:\n",
    "        combined_text += file.read().strip() + \"\\n\\n\"\n",
    "\n",
    "with open(combined_text_file, \"w\", encoding=\"utf-8\") as file:\n",
    "    file.write(combined_text)\n",
    "print(f\"Combined texts saved to {combined_text_file}\")"
   ]
  },
  {
   "cell_type": "code",
   "execution_count": 3,
   "metadata": {},
   "outputs": [],
   "source": [
    "# Load combined text\n",
    "with open(combined_text_file, \"r\", encoding=\"utf-8\") as file:\n",
    "    text = file.read()\n",
    "\n",
    "# Create character mappings\n",
    "chars = sorted(set(text))\n",
    "char_to_idx = {char: idx for idx, char in enumerate(chars)}\n",
    "idx_to_char = {idx: char for idx, char in enumerate(chars)}\n",
    "\n",
    "# Convert text to int representation\n",
    "text_as_int = np.array([char_to_idx[char] for char in text])\n",
    "\n",
    "# Sequence preparation\n",
    "seq_length = 100\n",
    "examples_per_epoch = len(text) - seq_length\n",
    "\n",
    "inputs = []\n",
    "targets = []\n",
    "for i in range(examples_per_epoch):\n",
    "    inputs.append(text_as_int[i:i+seq_length])\n",
    "    targets.append(text_as_int[i+seq_length])\n",
    "\n",
    "inputs = np.array(inputs)\n",
    "targets = np.array(targets)"
   ]
  },
  {
   "cell_type": "code",
   "execution_count": 7,
   "metadata": {},
   "outputs": [
    {
     "name": "stdout",
     "output_type": "stream",
     "text": [
      "Epoch 1/20, Loss: 1.7513\n",
      "Epoch 2/20, Loss: 1.3531\n",
      "Epoch 3/20, Loss: 1.2095\n",
      "Epoch 4/20, Loss: 1.1099\n",
      "Epoch 5/20, Loss: 1.0243\n",
      "Epoch 6/20, Loss: 0.9479\n",
      "Epoch 7/20, Loss: 0.8775\n",
      "Epoch 8/20, Loss: 0.8072\n",
      "Epoch 9/20, Loss: 0.7484\n",
      "Epoch 10/20, Loss: 0.6933\n",
      "Epoch 11/20, Loss: 0.6432\n",
      "Epoch 12/20, Loss: 0.6003\n",
      "Epoch 13/20, Loss: 0.5607\n",
      "Epoch 14/20, Loss: 0.5282\n",
      "Epoch 15/20, Loss: 0.5053\n",
      "Epoch 16/20, Loss: 0.4795\n",
      "Epoch 17/20, Loss: 0.4628\n",
      "Epoch 18/20, Loss: 0.4486\n",
      "Epoch 19/20, Loss: 0.4370\n",
      "Epoch 20/20, Loss: 0.4336\n",
      "To be, or not to be, that is the question:              30\n",
      "\n",
      "He crack'd my voice fair'd again,          30\n",
      "\n",
      "but wander-proofferenger's arrested to lise by all\n",
      "\n",
      "the sealing on trainscrite of luce's sap,\n",
      "\n",
      "Thirty-making upon succost: in less in eart,\n",
      "\n",
      "My will and in my poor dishoney,\n",
      "\n",
      "And as a Contry in my house, go with me,\n",
      "\n",
      "Mistress this belive bound, being by.\n",
      "\n",
      "\n",
      "\n",
      "_Luc._ Not my money benefice, Stauntaunt, and the five gues,\n",
      "\n",
      "Go to seek deeparaction is deform the rope's name\n",
      "\n",
      "        distribute this place where is mad,\n",
      "\n",
      "And told'st me of a pun-violia, perforce,--I should be quiet,\n",
      "\n",
      "So this play you nothing but heed with also out\n",
      "\n",
      "Besidem to, incornot call to be made          210\n",
      "\n",
      "but longer from her with more counter,                35\n",
      "\n",
      "A liver and privoy conferes, foolish sailing writing,\n",
      "\n",
      "    Lay of Epidamnum had been bad, that is located by\n",
      "\n",
      "Here anoter do how to-ning which, he term, you may\n",
      "\n",
      "do count a sconce for grass, the pale,                        100\n",
      "\n",
      "And succance by this officer.\n",
      "\n",
      "\n",
      "\n",
      "_Ant. S._ There is your in what stro\n"
     ]
    }
   ],
   "source": [
    "# Create a PyTorch Dataset\n",
    "class ShakespeareDataset(Dataset):\n",
    "    def __init__(self, X, y):\n",
    "        self.X = torch.tensor(X, dtype=torch.long)\n",
    "        self.y = torch.tensor(y, dtype=torch.long)\n",
    "\n",
    "    def __len__(self):\n",
    "        return len(self.X)\n",
    "\n",
    "    def __getitem__(self, idx):\n",
    "        return self.X[idx], self.y[idx]\n",
    "\n",
    "dataset = ShakespeareDataset(inputs, targets)\n",
    "\n",
    "batch_size = 64\n",
    "dataloader = DataLoader(dataset, batch_size=batch_size, shuffle=True, drop_last=True)\n",
    "\n",
    "\n",
    "# Define the PyTorch model\n",
    "class ShakespeareModel(nn.Module):\n",
    "    def __init__(self, vocab_size, embedding_dim, rnn_units):\n",
    "        super(ShakespeareModel, self).__init__()\n",
    "        self.embedding = nn.Embedding(vocab_size, embedding_dim)\n",
    "        self.lstm1 = nn.LSTM(embedding_dim, rnn_units, batch_first=True)\n",
    "        self.lstm2 = nn.LSTM(rnn_units, rnn_units, batch_first=True)\n",
    "        self.fc = nn.Linear(rnn_units, vocab_size)\n",
    "\n",
    "    def forward(self, x):\n",
    "        x = self.embedding(x)\n",
    "        x, _ = self.lstm1(x)\n",
    "        x, _ = self.lstm2(x)\n",
    "        x = self.fc(x)\n",
    "        return x\n",
    "\n",
    "vocab_size = len(chars)\n",
    "embedding_dim = 256\n",
    "rnn_units = 512\n",
    "\n",
    "model = ShakespeareModel(vocab_size, embedding_dim, rnn_units).to(device)\n",
    "\n",
    "criterion = nn.CrossEntropyLoss()\n",
    "optimizer = optim.Adam(model.parameters(), lr=0.001)\n",
    "\n",
    "epochs = 20\n",
    "loss_history = []\n",
    "\n",
    "for epoch in range(epochs):\n",
    "    model.train()\n",
    "    epoch_loss = 0.0\n",
    "    for batch_inputs, batch_targets in dataloader:\n",
    "        batch_inputs, batch_targets = batch_inputs.to(device), batch_targets.to(device)\n",
    "\n",
    "        optimizer.zero_grad()\n",
    "        # forward pass\n",
    "        outputs = model(batch_inputs)\n",
    "        # reshape outputs and targets for CrossEntropyLoss: (batch*seq, vocab)\n",
    "        # outputs = outputs.view(-1, vocab_size)\n",
    "        outputs = outputs[:, -1, :]\n",
    "        batch_targets = batch_targets.view(-1)\n",
    "        \n",
    "        # Now [64, vocab_size]\n",
    "\n",
    "# targets is [64]\n",
    "        loss = criterion(outputs, batch_targets)\n",
    "        loss.backward()\n",
    "        optimizer.step()\n",
    "\n",
    "        epoch_loss += loss.item()\n",
    "\n",
    "    avg_loss = epoch_loss / len(dataloader)\n",
    "    loss_history.append(avg_loss)\n",
    "    print(f\"Epoch {epoch+1}/{epochs}, Loss: {avg_loss:.4f}\")\n",
    "\n",
    "\n",
    "# Text generation function in PyTorch\n",
    "def generate_text(model, start_string, num_generate=500, temperature=1.0):\n",
    "    model.eval()\n",
    "    input_eval = torch.tensor([char_to_idx[char] for char in start_string], dtype=torch.long).unsqueeze(0).to(device)\n",
    "    text_generated = []\n",
    "\n",
    "    with torch.no_grad():\n",
    "        for _ in range(num_generate):\n",
    "            outputs = model(input_eval)\n",
    "            outputs = outputs[:, -1, :] / temperature\n",
    "            probs = torch.softmax(outputs, dim=-1)\n",
    "            predicted_id = torch.multinomial(probs, num_samples=1).item()\n",
    "\n",
    "            text_generated.append(idx_to_char[predicted_id])\n",
    "            # Append the predicted character to the input sequence\n",
    "            input_eval = torch.cat([input_eval[:, 1:], torch.tensor([[predicted_id]], device=device)], dim=1)\n",
    "\n",
    "    return start_string + ''.join(text_generated)\n",
    "\n",
    "\n",
    "seed_text = \"To be, or not to be, that is the question:\"\n",
    "generated_text = generate_text(model, seed_text, num_generate=1000)\n",
    "print(generated_text)\n"
   ]
  },
  {
   "cell_type": "code",
   "execution_count": 8,
   "metadata": {},
   "outputs": [
    {
     "data": {
      "image/png": "[encoded data removed]",
      "text/plain": [
       "<Figure size 640x480 with 1 Axes>"
      ]
     },
     "metadata": {},
     "output_type": "display_data"
    },
    {
     "name": "stdout",
     "output_type": "stream",
     "text": [
      "Model saved as shakespeare_generator.pth\n"
     ]
    }
   ],
   "source": [
    "# Plotting the loss\n",
    "import matplotlib.pyplot as plt\n",
    "\n",
    "plt.plot(loss_history)\n",
    "plt.xlabel(\"Epochs\")\n",
    "plt.ylabel(\"Loss\")\n",
    "plt.title(\"Training Loss\")\n",
    "plt.show()\n",
    "\n",
    "# Saving the model\n",
    "torch.save(model.state_dict(), \"shakespeare_generator.pth\")\n",
    "print(\"Model saved as shakespeare_generator.pth\")"
   ]
  },
  {
   "cell_type": "code",
   "execution_count": 10,
   "metadata": {},
   "outputs": [
    {
     "name": "stdout",
     "output_type": "stream",
     "text": [
      "Perplexity: 1.5813847991596877\n"
     ]
    }
   ],
   "source": [
    "import math\n",
    "perplexity = math.exp(loss.item())\n",
    "print(\"Perplexity:\", perplexity)\n"
   ]
  }
 ],
 "metadata": {
  "kernelspec": {
   "display_name": "Python 3",
   "language": "python",
   "name": "python3"
  },
  "language_info": {
   "codemirror_mode": {
    "name": "ipython",
    "version": 3
   },
   "file_extension": ".py",
   "mimetype": "text/x-python",
   "name": "python",
   "nbconvert_exporter": "python",
   "pygments_lexer": "ipython3",
   "version": "3.11.9"
  }
 },
 "nbformat": 4,
 "nbformat_minor": 2
}
